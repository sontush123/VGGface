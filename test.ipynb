{
 "cells": [
  {
   "cell_type": "code",
   "execution_count": null,
   "metadata": {},
   "outputs": [],
   "source": [
    "# !pip install mtcnn==0.1.0\n",
    "# !pip install tensorflow==2.3.1\n",
    "# !pip install keras==2.4.3\n",
    "# !pip install keras-vggface==0.6\n",
    "# !pip install keras_applications==1.0.8\n",
    "\n",
    "#import os\n",
    "#import pickle\n",
    "\n",
    "#actors = os.listdir('data')\n",
    "\n",
    "#filenames = []\n",
    "\n",
    "#for actor in actors:\n",
    "    #for file in os.listdir(os.path.join('data',actor)):\n",
    "        #filenames.append(os.path.join('data',actor,file))\n",
    "\n",
    "#pickle.dump(filenames,open('filenames.pkl','wb'))\n",
    "\n",
    "from tensorflow.keras.preprocessing import image\n",
    "from keras_vggface.utils import preprocess_input\n",
    "from keras_vggface.vggface import VGGFace\n",
    "import numpy as np\n",
    "import pickle\n",
    "from tqdm import tqdm\n",
    "\n",
    "filenames = pickle.load(open('filenames.pkl','rb'))\n",
    "\n",
    "model = VGGFace(model='resnet50',include_top=False,input_shape=(224,224,3),pooling='avg')\n",
    "\n",
    "def feature_extractor(img_path,model):\n",
    "    img = image.load_img(img_path,target_size=(224,224))\n",
    "    img_array = image.img_to_array(img)\n",
    "    expanded_img = np.expand_dims(img_array,axis=0)\n",
    "    preprocessed_img = preprocess_input(expanded_img)\n",
    "\n",
    "    result = model.predict(preprocessed_img).flatten()\n",
    "\n",
    "    return result\n",
    "\n",
    "features = []\n",
    "\n",
    "for file in tqdm(filenames):\n",
    "    features.append(feature_extractor(file,model))\n",
    "\n",
    "pickle.dump(features,open('embedding.pkl','wb'))"
   ]
  },
  {
   "cell_type": "code",
   "execution_count": 3,
   "metadata": {},
   "outputs": [],
   "source": [
    "import os\n",
    "import pickle\n",
    "\n",
    "actors = os.listdir('data')\n",
    "\n",
    "\n",
    "filenames = []\n",
    "\n",
    "for actor in actors:\n",
    "    for file in os.listdir(os.path.join('data',actor)):\n",
    "        filenames.append(os.path.join('data',actor,file))\n",
    "\n",
    "pickle.dump(filenames,open('filenames.pkl','wb'))\n"
   ]
  },
  {
   "cell_type": "code",
   "execution_count": 4,
   "metadata": {},
   "outputs": [],
   "source": [
    "from tensorflow.keras.preprocessing import image\n",
    "from keras_vggface.utils import preprocess_input\n",
    "from keras_vggface.vggface import VGGFace\n",
    "import numpy as np\n",
    "import pickle\n",
    "from tqdm import tqdm"
   ]
  },
  {
   "cell_type": "code",
   "execution_count": 5,
   "metadata": {},
   "outputs": [
    {
     "name": "stdout",
     "output_type": "stream",
     "text": [
      "Downloading data from https://github.com/rcmalli/keras-vggface/releases/download/v2.0/rcmalli_vggface_tf_notop_resnet50.h5\n",
      "94699520/94694792 [==============================] - 17s 0us/step\n"
     ]
    },
    {
     "name": "stderr",
     "output_type": "stream",
     "text": [
      "100%|██████████| 8563/8563 [28:11<00:00,  5.06it/s]\n"
     ]
    }
   ],
   "source": [
    "\n",
    "filenames = pickle.load(open('filenames.pkl','rb'))\n",
    "\n",
    "model = VGGFace(model='resnet50',include_top=False,input_shape=(224,224,3),pooling='avg')\n",
    "\n",
    "def feature_extractor(img_path,model):\n",
    "    img = image.load_img(img_path,target_size=(224,224))\n",
    "    img_array = image.img_to_array(img)\n",
    "    expanded_img = np.expand_dims(img_array,axis=0)\n",
    "    preprocessed_img = preprocess_input(expanded_img)\n",
    "\n",
    "    result = model.predict(preprocessed_img).flatten()\n",
    "\n",
    "    return result\n",
    "\n",
    "features = []\n",
    "\n",
    "for file in tqdm(filenames):\n",
    "    features.append(feature_extractor(file,model))\n",
    "\n",
    "pickle.dump(features,open('embedding.pkl','wb'))"
   ]
  },
  {
   "cell_type": "code",
   "execution_count": null,
   "metadata": {},
   "outputs": [],
   "source": [
    "\n",
    "\"\"\"\n",
    "def load_image(image_file):\n",
    "    return Image.open(image_file)\n",
    "\n",
    "# Streamlit app\n",
    "st.title(\"Image Uploader and Saver\")\n",
    "\n",
    "# File uploader\n",
    "image_file = st.file_uploader(\"Upload an Image\", type=['png', 'jpeg', 'jpg'])\n",
    "\n",
    "if image_file is not None:\n",
    "    file_details = {\"FileName\": image_file.name, \"FileType\": image_file.type}\n",
    "    st.write(file_details)\n",
    "\n",
    "    # Display the uploaded image\n",
    "    img = Image.open(image_file)\n",
    "    st.image(img, width=250)\n",
    "\n",
    "    # Save the uploaded image to \"tempDir\"\n",
    "    temp_dir = \"tempDir\"\n",
    "    if not os.path.exists(temp_dir):\n",
    "        os.makedirs(temp_dir)\n",
    "\n",
    "    file_path = os.path.join(temp_dir, image_file.name)\n",
    "    with open(file_path, \"wb\") as f:\n",
    "        f.write(image_file.getbuffer())\n",
    "\n",
    "    st.success(\"Saved File to tempDir\")\n",
    "\n",
    "\n",
    "\n",
    "if uploaded_image is not None:\n",
    "    file_details = {\"FileName\": uploaded_image.name, \"FileType\": uploaded_image.type}\n",
    "    st.write(file_details)\n",
    "\n",
    "    # Display the uploaded image\n",
    "    img = Image.open(uploaded_image)\n",
    "    st.image(img, width=250)\n",
    "\n",
    "    # Save the uploaded image to \"tempDir\"\n",
    "    temp_dir = \"uploads\"\n",
    "    if not os.path.exists(temp_dir):\n",
    "        os.makedirs(temp_dir)\n",
    "\n",
    "    file_path = os.path.join(temp_dir, uploaded_image.name)\n",
    "    with open(file_path, \"wb\") as f:\n",
    "        f.write(uploaded_image.getbuffer())\n",
    "\n",
    "    st.success(\"Saved File to tempDir\")\n",
    "\"\"\""
   ]
  }
 ],
 "metadata": {
  "kernelspec": {
   "display_name": ".venv",
   "language": "python",
   "name": "python3"
  },
  "language_info": {
   "codemirror_mode": {
    "name": "ipython",
    "version": 3
   },
   "file_extension": ".py",
   "mimetype": "text/x-python",
   "name": "python",
   "nbconvert_exporter": "python",
   "pygments_lexer": "ipython3",
   "version": "3.7.0"
  },
  "orig_nbformat": 4
 },
 "nbformat": 4,
 "nbformat_minor": 2
}
